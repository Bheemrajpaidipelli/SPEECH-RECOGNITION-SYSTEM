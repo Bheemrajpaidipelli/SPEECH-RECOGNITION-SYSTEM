{
 "cells": [
  {
   "cell_type": "code",
   "execution_count": 1,
   "id": "efac385a",
   "metadata": {},
   "outputs": [],
   "source": [
    "pip install SpeechRecognition pyaudio\n",
    "pip install language-tool-python"
   ]
  },
  {
   "cell_type": "code",
   "execution_count": 2,
   "id": "4865613b",
   "metadata": {},
   "outputs": [
    {
     "name": "stdout",
     "output_type": "stream",
     "text": [
      " Ready. Speak now...\n",
      " Captured. Transcribing...\n",
      " Raw: good morning how are you\n",
      " Final: Good morning how are you.\n",
      " Thank you!\n"
     ]
    }
   ],
   "source": [
    "import speech_recognition as sr\n",
    "import language_tool_python\n",
    "import re\n",
    "\n",
    "tool = language_tool_python.LanguageTool('en-US')\n",
    "\n",
    "def format_and_correct(text):\n",
    "    text = text.strip()\n",
    "    if not text:\n",
    "        return \"\"\n",
    "    \n",
    "    corrected = tool.correct(text)\n",
    "    \n",
    "    sentences = re.split(r'(?<=[.?!])\\s+', corrected)\n",
    "    formatted_sentences = []\n",
    "    for sentence in sentences:\n",
    "        sentence = sentence.strip()\n",
    "        if not sentence:\n",
    "            continue\n",
    "        if sentence[-1] not in \".!?\":\n",
    "            sentence += \".\"\n",
    "        sentence = sentence[0].upper() + sentence[1:]\n",
    "        formatted_sentences.append(sentence)\n",
    "    \n",
    "    return \" \".join(formatted_sentences)\n",
    "\n",
    "recognizer = sr.Recognizer()\n",
    "recognizer.pause_threshold = 1.0\n",
    "\n",
    "print(\" Ready. Speak now...\")\n",
    "with sr.Microphone() as source:\n",
    "    recognizer.adjust_for_ambient_noise(source, duration=0.1)\n",
    "\n",
    "    try:\n",
    "        \n",
    "        audio = recognizer.listen(source, timeout=3, phrase_time_limit=7)\n",
    "\n",
    "        print(\" Captured. Transcribing...\")\n",
    "\n",
    "        \n",
    "        raw_text = recognizer.recognize_google(audio)\n",
    "        print(\" Raw:\", raw_text)\n",
    "\n",
    "        if not raw_text.strip():\n",
    "            print(\" You didn’t say anything or nothing was recognized.\")\n",
    "        else:\n",
    "            final_text = format_and_correct(raw_text)\n",
    "            print(\" Final:\", final_text)\n",
    "            print(\" Thank you!\")\n",
    "\n",
    "    except sr.WaitTimeoutError:\n",
    "        print(\" You didn’t start speaking in time.\")\n",
    "    except sr.UnknownValueError:\n",
    "        print(\" Speech detected, but not understood.\")\n",
    "    except sr.RequestError as e:\n",
    "        print(f\" API error: {e}\")\n"
   ]
  },
  {
   "cell_type": "code",
   "execution_count": null,
   "id": "0b055e31",
   "metadata": {},
   "outputs": [],
   "source": []
  }
 ],
 "metadata": {
  "kernelspec": {
   "display_name": "Python 3 (ipykernel)",
   "language": "python",
   "name": "python3"
  },
  "language_info": {
   "codemirror_mode": {
    "name": "ipython",
    "version": 3
   },
   "file_extension": ".py",
   "mimetype": "text/x-python",
   "name": "python",
   "nbconvert_exporter": "python",
   "pygments_lexer": "ipython3",
   "version": "3.9.12"
  }
 },
 "nbformat": 4,
 "nbformat_minor": 5
}
